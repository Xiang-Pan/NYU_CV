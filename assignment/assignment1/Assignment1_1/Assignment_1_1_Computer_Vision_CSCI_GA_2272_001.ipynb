{
 "cells": [
  {
   "cell_type": "markdown",
   "metadata": {
    "id": "5NwLQOFMMlev",
    "tags": []
   },
   "source": [
    "# Computer Vision CSCI-GA.2272-001 Assignment 1, part 1.\n",
    "\n",
    "Fall 2021 semester.\n",
    "\n",
    "Due date: **September 30th 2021.**\n",
    "\n",
    "## Introduction\n",
    "\n",
    "This assignment is an introduction to using PyTorch for training simple neural net models. Two different datasets will be used: \n",
    "- MNIST digits [handwritten digits]\n",
    "- CIFAR-10 [32x32 resolution color images of 10 object classes].\n",
    "\n",
    "## Requirements\n",
    "\n",
    "You should perform this assignment in PyTorch by modifying this ipython notebook (File-->Save a copy...).\n",
    "\n",
    "To install PyTorch, follow instructions at http://pytorch.org/\n",
    "\n",
    "Please submit your assignment by uploading this iPython notebook to Brightspace.\n",
    "\n",
    "## Warmup [5%]\n",
    "\n",
    "It is always good practice to visually inspect your data before trying to train a model, since it lets you check for problems and get a feel for the task at hand.\n",
    "\n",
    "MNIST is a dataset of 70,000 grayscale hand-written digits (0 through 9).\n",
    "60,000 of these are training images. 10,000 are a held out test set. \n",
    "\n",
    "CIFAR-10 is a dataset of 60,000 color images (32 by 32 resolution) across 10 classes\n",
    "(airplane, automobile, bird, cat, deer, dog, frog, horse, ship, truck). \n",
    "The train/test split is 50k/10k.\n",
    "\n",
    "Use `matplotlib` and ipython notebook's visualization capabilities to display some of these images.\n",
    "[See this PyTorch tutorial page](http://pytorch.org/tutorials/beginner/blitz/cifar10_tutorial.html#sphx-glr-beginner-blitz-cifar10-tutorial-py) for hints on how to achieve this.\n",
    "\n",
    "** Relevant Cell: \"Data Loading\" **\n",
    "\n",
    "## Training a Single Layer Network on MNIST [10%]\n",
    "\n",
    "Start by running the training on MNIST.\n",
    "By default if you run this notebook successfully, it will train on MNIST.\n",
    "\n",
    "This will initialize a single layer model train it on the 60,000 MNIST training images for 10 epochs (passes through the training data). \n",
    "\n",
    "The loss function [cross_entropy](http://pytorch.org/docs/master/nn.html?highlight=cross_entropy#torch.nn.functional.cross_entropy) computes a Logarithm of the Softmax on the output of the neural network, and then computes the negative log-likelihood w.r.t. the given `target`.\n",
    "\n",
    "The default values for the learning rate, batch size and number of epochs are given in the \"options\" cell of this notebook. \n",
    "Unless otherwise specified, use the default values throughout this assignment. \n",
    "\n",
    "Note the decrease in training loss and corresponding decrease in validation errors.\n",
    "\n",
    "Paste the output into your report.\n",
    "(a): Add code to plot out the network weights as images (one for each output, of size 28 by 28) after the last epoch. Grab a screenshot of the figure and include it in your report. (Hint threads: [#1](https://discuss.pytorch.org/t/understanding-deep-network-visualize-weights/2060/2?u=smth) [#2](https://github.com/pytorch/vision#utils) )\n",
    "\n",
    "(b): Reduce the number of training examples to just 50. [Hint: limit the iterator in the `train` function]. \n",
    "Paste the output into your report and explain what is happening to the model.\n",
    "\n",
    "## Training a Multi-Layer Network on MNIST [10%]\n",
    "\n",
    "- Add an extra layer to the network with 1000 hidden units and a `tanh` non-linearity. [Hint: modify the `Net` class]. Train the model for 10 epochs and save the output into your report.\n",
    "-  Now set the learning rate to 10 and observe what happens during training. Save the output in your report and give a brief explanation\n",
    "\n",
    "## Training a Convolutional Network on CIFAR [25%]\n",
    "\n",
    "To change over to the CIFAR-10 dataset, change the `options` cell's `dataset` variable to `'cifar10'`.\n",
    "\n",
    "- Create a convolutional network with the following architecture:\n",
    "  - Convolution with 5 by 5 filters, 16 feature maps + Tanh nonlinearity.\n",
    "  - 2 by 2 max pooling (non-overlapping).\n",
    "  - Convolution with 5 by 5 filters, 128 feature maps + Tanh nonlinearity.\n",
    "  - 2 by 2 max pooling (non-overlapping).\n",
    "  - Flatten to vector.\n",
    "  - Linear layer with 64 hidden units + Tanh nonlinearity.\n",
    "  - Linear layer to 10 output units.\n",
    "\n",
    "Train it for 20 epochs on the CIFAR-10 training set and copy the output\n",
    "into your report, along with a image of the first layer filters.\n",
    "\n",
    "Hints: [Follow the first PyTorch tutorial](http://pytorch.org/tutorials/beginner/blitz/neural_networks_tutorial.html#sphx-glr-beginner-blitz-neural-networks-tutorial-py) or look at the [MNIST example](https://github.com/pytorch/examples/tree/master/mnist). Also, you may find training is faster if you use a GPU runtime (RunTime-->Change Runtime Type-->GPU). \n",
    "\n",
    "- Give a breakdown of the parameters within the above model, and the overall number."
   ]
  },
  {
   "cell_type": "code",
   "execution_count": 27,
   "metadata": {
    "id": "CrnqiscEKGWv"
   },
   "outputs": [],
   "source": [
    "from __future__ import print_function\n",
    "import argparse\n",
    "import torch\n",
    "import torch.nn as nn\n",
    "import torch.nn.functional as F\n",
    "import torch.optim as optim\n",
    "from torchvision import datasets, transforms\n",
    "from torch.autograd import Variable"
   ]
  },
  {
   "cell_type": "code",
   "execution_count": 28,
   "metadata": {
    "id": "V0NBWksLKRD7"
   },
   "outputs": [],
   "source": [
    "# options\n",
    "dataset = 'mnist' # options: 'mnist' | 'cifar10'\n",
    "batch_size = 64   # input batch size for training\n",
    "epochs = 10       # number of epochs to train\n",
    "lr = 0.01        # learning rate"
   ]
  },
  {
   "cell_type": "markdown",
   "metadata": {},
   "source": [
    "# Warmup"
   ]
  },
  {
   "cell_type": "markdown",
   "metadata": {},
   "source": [
    "## get dataloader "
   ]
  },
  {
   "cell_type": "code",
   "execution_count": 29,
   "metadata": {
    "colab": {
     "base_uri": "https://localhost:8080/",
     "height": 100,
     "referenced_widgets": [
      "04539c4495c64d11b42905b3030fefff",
      "cd7fe7b4bb3f49029c2de890c3cd7d58",
      "f010b14902ec44c69648cabd2a0cd01d",
      "836e2b0833894246ac27f5f34e66ace1",
      "99e3ee30d7cc411bb7396ef9a96c875a",
      "0d4fa71e22304340b5639c8f88f74846",
      "bf7359f70e35462f877beb7d0935f8e3",
      "6d2f0036f8a34a5c8abccbcff73f01ae"
     ]
    },
    "id": "ab7pqvGUKVVf",
    "outputId": "c2009734-27ee-4191-9d6c-d189d9664329"
   },
   "outputs": [],
   "source": [
    "# Data Loading\n",
    "# Warning: this cell might take some time when you run it for the first time, \n",
    "#          because it will download the datasets from the internet\n",
    "dataset = \"mnist\"\n",
    "def get_dataloader(dataset = \"mnist\"):\n",
    "    if dataset == 'mnist':\n",
    "        data_transform = transforms.Compose([\n",
    "            transforms.ToTensor(),\n",
    "            transforms.Normalize((0.1307,), (0.3081,))\n",
    "        ])\n",
    "        trainset = datasets.MNIST(root='.', train=True, download=True, transform=data_transform)\n",
    "        testset = datasets.MNIST(root='.', train=False, download=True, transform=data_transform)\n",
    "    \n",
    "    elif dataset == 'mnist_limited':\n",
    "        data_transform = transforms.Compose([\n",
    "            transforms.ToTensor(),\n",
    "            transforms.Normalize((0.1307,), (0.3081,))\n",
    "        ])\n",
    "        torch.utils.data.Subset\n",
    "        trainset = torch.utils.data.Subset(datasets.MNIST(root='.', train=True, download=True, transform=data_transform), indices = [i for i in range(50)])\n",
    "        testset = datasets.MNIST(root='.', train=False, download=True, transform=data_transform)\n",
    "        \n",
    "\n",
    "    elif dataset == 'cifar10':\n",
    "        data_transform = transforms.Compose([\n",
    "            transforms.ToTensor(),\n",
    "            transforms.Normalize((0.5, 0.5, 0.5), (0.5, 0.5, 0.5)),\n",
    "        ])\n",
    "        trainset = datasets.CIFAR10(root='.', train=True, download=True, transform=data_transform)\n",
    "        testset = datasets.CIFAR10(root='.', train=False, download=True, transform=data_transform)\n",
    "\n",
    "    train_loader = torch.utils.data.DataLoader(trainset, batch_size=batch_size, shuffle=True, num_workers=0)\n",
    "    test_loader  = torch.utils.data.DataLoader(testset, batch_size=batch_size, shuffle=False, num_workers=0)\n",
    "    return train_loader, test_loader"
   ]
  },
  {
   "cell_type": "markdown",
   "metadata": {},
   "source": [
    "## Dataset Visulization"
   ]
  },
  {
   "cell_type": "markdown",
   "metadata": {},
   "source": [
    "### mnist visulization"
   ]
  },
  {
   "cell_type": "code",
   "execution_count": 115,
   "metadata": {},
   "outputs": [
    {
     "data": {
      "text/plain": [
       "<Figure size 1440x1440 with 0 Axes>"
      ]
     },
     "metadata": {},
     "output_type": "display_data"
    },
    {
     "data": {
      "image/png": "[encoded data removed]",
      "text/plain": [
       "<Figure size 432x288 with 10 Axes>"
      ]
     },
     "metadata": {
      "needs_background": "light"
     },
     "output_type": "display_data"
    }
   ],
   "source": [
    "import matplotlib.pyplot as plt\n",
    "\n",
    "# image index is within trainset\n",
    "image_index = 0\n",
    "data_transform = transforms.Compose([\n",
    "    transforms.ToTensor(),\n",
    "    transforms.Normalize((0.1307,), (0.3081,))\n",
    "])\n",
    "trainset = datasets.MNIST(root='.', train=True, download=True, transform=data_transform)\n",
    "\n",
    "\n",
    "\n",
    "plt.figure(figsize=(20, 20))\n",
    "f, axarr = plt.subplots(1,10) \n",
    "plt.subplot_tool()\n",
    "\n",
    "for i in range(10):\n",
    "    image, label = trainset[i]\n",
    "    image = image.reshape((28, 28))\n",
    "    axarr[i].imshow(image, cmap='gray')\n",
    "\n",
    "plt.show()"
   ]
  },
  {
   "cell_type": "markdown",
   "metadata": {},
   "source": [
    "### cifar10 visulization"
   ]
  },
  {
   "cell_type": "code",
   "execution_count": 110,
   "metadata": {},
   "outputs": [
    {
     "name": "stdout",
     "output_type": "stream",
     "text": [
      "Files already downloaded and verified\n"
     ]
    },
    {
     "data": {
      "text/plain": [
       "<Figure size 1440x1440 with 0 Axes>"
      ]
     },
     "metadata": {},
     "output_type": "display_data"
    },
    {
     "data": {
      "image/png": "[encoded data removed]",
      "text/plain": [
       "<Figure size 432x288 with 10 Axes>"
      ]
     },
     "metadata": {
      "needs_background": "light"
     },
     "output_type": "display_data"
    }
   ],
   "source": [
    "import matplotlib.pyplot as plt\n",
    "import numpy as np\n",
    "# image index is within trainset\n",
    "image_index = 1\n",
    "\n",
    "trainset = datasets.CIFAR10(root='.', train=True, download=True, transform=None)\n",
    "image, label = trainset[image_index]\n",
    "\n",
    "# # # Plot\n",
    "# plt.title()\n",
    "# plt.imshow(image)\n",
    "\n",
    "plt.figure(figsize=(20, 20))\n",
    "f, axarr = plt.subplots(1,10) \n",
    "plt.subplot_tool()\n",
    "\n",
    "for i in range(10):\n",
    "    image, label = trainset[i]\n",
    "    axarr[i].imshow(image, cmap='gray')\n",
    "\n",
    "plt.show()"
   ]
  },
  {
   "cell_type": "markdown",
   "metadata": {},
   "source": [
    "# Training a Single Layer Network on MNIST"
   ]
  },
  {
   "cell_type": "code",
   "execution_count": 32,
   "metadata": {
    "id": "mRkBGjAEKZM0"
   },
   "outputs": [],
   "source": [
    "## network and optimizer\n",
    "# if dataset == 'mnist':\n",
    "#     num_inputs = 784\n",
    "# elif dataset == 'cifar10':\n",
    "#     num_inputs = 3072\n",
    "\n",
    "num_outputs = 10 \n",
    "class SingleLayerNet(nn.Module):\n",
    "    def __init__(self, num_inputs, num_outputs):\n",
    "        super(SingleLayerNet, self).__init__()\n",
    "        self.num_inputs = num_inputs\n",
    "        self.linear = nn.Linear(num_inputs, num_outputs)\n",
    "\n",
    "    def forward(self, input):\n",
    "        input = input.view(-1, self.num_inputs) # reshape input to batch x num_inputs\n",
    "        output = self.linear(input)\n",
    "        return output\n",
    "\n",
    "network = SingleLayerNet(num_inputs=784, num_outputs=10)\n",
    "optimizer = optim.SGD(network.parameters(), lr=lr)"
   ]
  },
  {
   "cell_type": "markdown",
   "metadata": {},
   "source": [
    "## training function"
   ]
  },
  {
   "cell_type": "code",
   "execution_count": 101,
   "metadata": {
    "id": "3DfrCg4-Kfq6"
   },
   "outputs": [],
   "source": [
    "def train(cur_epoch, network, train_loader):\n",
    "    network.train()\n",
    "    for batch_idx, (data, target) in enumerate(train_loader):\n",
    "        data, target = Variable(data), Variable(target)\n",
    "        device = next(network.parameters()).device\n",
    "        # print(network)\n",
    "        data = data.to(device)\n",
    "        target = target.to(device)\n",
    "        optimizer.zero_grad()\n",
    "        output = network(data)\n",
    "        loss = F.cross_entropy(output, target)\n",
    "        loss.backward()\n",
    "        optimizer.step()\n",
    "        if batch_idx % 100 == 0:\n",
    "            print('Train Epoch: {} [{}/{} ({:.0f}%)]\\tLoss: {:.6f}'.format(\n",
    "                cur_epoch, batch_idx * len(data), len(train_loader.dataset),\n",
    "                100. * batch_idx / len(train_loader), loss.item()))\n",
    "\n",
    "def test(network, test_loader):\n",
    "    network.eval()\n",
    "    test_loss = 0\n",
    "    correct = 0\n",
    "    for data, target in test_loader:\n",
    "        #data, target = Variable(data, volatile=True), Variable(target)\n",
    "        device = next(network.parameters()).device\n",
    "        # print(network)\n",
    "        data = data.to(device)\n",
    "        target = target.to(device)\n",
    "        output = network(data)\n",
    "        test_loss += F.cross_entropy(output, target, reduction='sum').item() # sum up batch loss\n",
    "        #test_loss += F.cross_entropy(output, target, sum=True).item() # sum up batch loss\n",
    "        pred = output.data.max(1, keepdim=True)[1] # get the index of the max log-probability\n",
    "        correct += pred.eq(target.data.view_as(pred)).cpu().sum()\n",
    "\n",
    "    test_loss /= len(test_loader.dataset)\n",
    "    print('\\nTest set: Average loss: {:.4f}, Accuracy: {}/{} ({:.0f}%)\\n'.format(\n",
    "        test_loss, correct, len(test_loader.dataset),\n",
    "        100. * correct / len(test_loader.dataset)))\n"
   ]
  },
  {
   "cell_type": "code",
   "execution_count": 34,
   "metadata": {
    "collapsed": true,
    "jupyter": {
     "outputs_hidden": true
    },
    "tags": []
   },
   "outputs": [
    {
     "name": "stdout",
     "output_type": "stream",
     "text": [
      "Train Epoch: 0 [0/60000 (0%)]\tLoss: 2.511405\n",
      "Train Epoch: 0 [6400/60000 (11%)]\tLoss: 0.598343\n",
      "Train Epoch: 0 [12800/60000 (21%)]\tLoss: 0.516464\n",
      "Train Epoch: 0 [19200/60000 (32%)]\tLoss: 0.412161\n",
      "Train Epoch: 0 [25600/60000 (43%)]\tLoss: 0.471342\n",
      "Train Epoch: 0 [32000/60000 (53%)]\tLoss: 0.314806\n",
      "Train Epoch: 0 [38400/60000 (64%)]\tLoss: 0.366759\n",
      "Train Epoch: 0 [44800/60000 (75%)]\tLoss: 0.365511\n",
      "Train Epoch: 0 [51200/60000 (85%)]\tLoss: 0.312179\n",
      "Train Epoch: 0 [57600/60000 (96%)]\tLoss: 0.223389\n",
      "\n",
      "Test set: Average loss: 0.3321, Accuracy: 9083/10000 (91%)\n",
      "\n",
      "Train Epoch: 1 [0/60000 (0%)]\tLoss: 0.407421\n",
      "Train Epoch: 1 [6400/60000 (11%)]\tLoss: 0.388040\n",
      "Train Epoch: 1 [12800/60000 (21%)]\tLoss: 0.399596\n",
      "Train Epoch: 1 [19200/60000 (32%)]\tLoss: 0.247198\n",
      "Train Epoch: 1 [25600/60000 (43%)]\tLoss: 0.233113\n",
      "Train Epoch: 1 [32000/60000 (53%)]\tLoss: 0.539485\n",
      "Train Epoch: 1 [38400/60000 (64%)]\tLoss: 0.387585\n",
      "Train Epoch: 1 [44800/60000 (75%)]\tLoss: 0.240517\n",
      "Train Epoch: 1 [51200/60000 (85%)]\tLoss: 0.331763\n",
      "Train Epoch: 1 [57600/60000 (96%)]\tLoss: 0.273312\n",
      "\n",
      "Test set: Average loss: 0.3047, Accuracy: 9129/10000 (91%)\n",
      "\n",
      "Train Epoch: 2 [0/60000 (0%)]\tLoss: 0.316100\n",
      "Train Epoch: 2 [6400/60000 (11%)]\tLoss: 0.293051\n",
      "Train Epoch: 2 [12800/60000 (21%)]\tLoss: 0.308288\n",
      "Train Epoch: 2 [19200/60000 (32%)]\tLoss: 0.239498\n",
      "Train Epoch: 2 [25600/60000 (43%)]\tLoss: 0.326432\n",
      "Train Epoch: 2 [32000/60000 (53%)]\tLoss: 0.157407\n",
      "Train Epoch: 2 [38400/60000 (64%)]\tLoss: 0.177024\n",
      "Train Epoch: 2 [44800/60000 (75%)]\tLoss: 0.407708\n",
      "Train Epoch: 2 [51200/60000 (85%)]\tLoss: 0.298710\n",
      "Train Epoch: 2 [57600/60000 (96%)]\tLoss: 0.256376\n",
      "\n",
      "Test set: Average loss: 0.2958, Accuracy: 9168/10000 (92%)\n",
      "\n",
      "Train Epoch: 3 [0/60000 (0%)]\tLoss: 0.299129\n",
      "Train Epoch: 3 [6400/60000 (11%)]\tLoss: 0.194101\n",
      "Train Epoch: 3 [12800/60000 (21%)]\tLoss: 0.208436\n",
      "Train Epoch: 3 [19200/60000 (32%)]\tLoss: 0.403098\n",
      "Train Epoch: 3 [25600/60000 (43%)]\tLoss: 0.336032\n",
      "Train Epoch: 3 [32000/60000 (53%)]\tLoss: 0.390912\n",
      "Train Epoch: 3 [38400/60000 (64%)]\tLoss: 0.263267\n",
      "Train Epoch: 3 [44800/60000 (75%)]\tLoss: 0.354082\n",
      "Train Epoch: 3 [51200/60000 (85%)]\tLoss: 0.176991\n",
      "Train Epoch: 3 [57600/60000 (96%)]\tLoss: 0.466609\n",
      "\n",
      "Test set: Average loss: 0.2872, Accuracy: 9188/10000 (92%)\n",
      "\n",
      "Train Epoch: 4 [0/60000 (0%)]\tLoss: 0.259518\n",
      "Train Epoch: 4 [6400/60000 (11%)]\tLoss: 0.192175\n",
      "Train Epoch: 4 [12800/60000 (21%)]\tLoss: 0.242846\n",
      "Train Epoch: 4 [19200/60000 (32%)]\tLoss: 0.152414\n",
      "Train Epoch: 4 [25600/60000 (43%)]\tLoss: 0.306415\n",
      "Train Epoch: 4 [32000/60000 (53%)]\tLoss: 0.238386\n",
      "Train Epoch: 4 [38400/60000 (64%)]\tLoss: 0.237680\n",
      "Train Epoch: 4 [44800/60000 (75%)]\tLoss: 0.270464\n",
      "Train Epoch: 4 [51200/60000 (85%)]\tLoss: 0.075293\n",
      "Train Epoch: 4 [57600/60000 (96%)]\tLoss: 0.217363\n",
      "\n",
      "Test set: Average loss: 0.2832, Accuracy: 9198/10000 (92%)\n",
      "\n",
      "Train Epoch: 5 [0/60000 (0%)]\tLoss: 0.141284\n",
      "Train Epoch: 5 [6400/60000 (11%)]\tLoss: 0.428937\n",
      "Train Epoch: 5 [12800/60000 (21%)]\tLoss: 0.383048\n",
      "Train Epoch: 5 [19200/60000 (32%)]\tLoss: 0.149896\n",
      "Train Epoch: 5 [25600/60000 (43%)]\tLoss: 0.372684\n",
      "Train Epoch: 5 [32000/60000 (53%)]\tLoss: 0.210758\n",
      "Train Epoch: 5 [38400/60000 (64%)]\tLoss: 0.455083\n",
      "Train Epoch: 5 [44800/60000 (75%)]\tLoss: 0.259165\n",
      "Train Epoch: 5 [51200/60000 (85%)]\tLoss: 0.256772\n",
      "Train Epoch: 5 [57600/60000 (96%)]\tLoss: 0.306259\n",
      "\n",
      "Test set: Average loss: 0.2834, Accuracy: 9183/10000 (92%)\n",
      "\n",
      "Train Epoch: 6 [0/60000 (0%)]\tLoss: 0.327602\n",
      "Train Epoch: 6 [6400/60000 (11%)]\tLoss: 0.194535\n",
      "Train Epoch: 6 [12800/60000 (21%)]\tLoss: 0.305372\n",
      "Train Epoch: 6 [19200/60000 (32%)]\tLoss: 0.184633\n",
      "Train Epoch: 6 [25600/60000 (43%)]\tLoss: 0.416546\n",
      "Train Epoch: 6 [32000/60000 (53%)]\tLoss: 0.398932\n",
      "Train Epoch: 6 [38400/60000 (64%)]\tLoss: 0.137196\n",
      "Train Epoch: 6 [44800/60000 (75%)]\tLoss: 0.420317\n",
      "Train Epoch: 6 [51200/60000 (85%)]\tLoss: 0.292678\n",
      "Train Epoch: 6 [57600/60000 (96%)]\tLoss: 0.174535\n",
      "\n",
      "Test set: Average loss: 0.2780, Accuracy: 9199/10000 (92%)\n",
      "\n",
      "Train Epoch: 7 [0/60000 (0%)]\tLoss: 0.252163\n",
      "Train Epoch: 7 [6400/60000 (11%)]\tLoss: 0.286544\n",
      "Train Epoch: 7 [12800/60000 (21%)]\tLoss: 0.206014\n",
      "Train Epoch: 7 [19200/60000 (32%)]\tLoss: 0.141278\n",
      "Train Epoch: 7 [25600/60000 (43%)]\tLoss: 0.420401\n",
      "Train Epoch: 7 [32000/60000 (53%)]\tLoss: 0.397799\n",
      "Train Epoch: 7 [38400/60000 (64%)]\tLoss: 0.276763\n",
      "Train Epoch: 7 [44800/60000 (75%)]\tLoss: 0.374948\n",
      "Train Epoch: 7 [51200/60000 (85%)]\tLoss: 0.225707\n",
      "Train Epoch: 7 [57600/60000 (96%)]\tLoss: 0.151548\n",
      "\n",
      "Test set: Average loss: 0.2774, Accuracy: 9199/10000 (92%)\n",
      "\n",
      "Train Epoch: 8 [0/60000 (0%)]\tLoss: 0.261344\n",
      "Train Epoch: 8 [6400/60000 (11%)]\tLoss: 0.194819\n",
      "Train Epoch: 8 [12800/60000 (21%)]\tLoss: 0.236221\n",
      "Train Epoch: 8 [19200/60000 (32%)]\tLoss: 0.340982\n",
      "Train Epoch: 8 [25600/60000 (43%)]\tLoss: 0.253098\n",
      "Train Epoch: 8 [32000/60000 (53%)]\tLoss: 0.347250\n",
      "Train Epoch: 8 [38400/60000 (64%)]\tLoss: 0.354870\n",
      "Train Epoch: 8 [44800/60000 (75%)]\tLoss: 0.181167\n",
      "Train Epoch: 8 [51200/60000 (85%)]\tLoss: 0.106981\n",
      "Train Epoch: 8 [57600/60000 (96%)]\tLoss: 0.276419\n",
      "\n",
      "Test set: Average loss: 0.2798, Accuracy: 9191/10000 (92%)\n",
      "\n",
      "Train Epoch: 9 [0/60000 (0%)]\tLoss: 0.457875\n",
      "Train Epoch: 9 [6400/60000 (11%)]\tLoss: 0.348137\n",
      "Train Epoch: 9 [12800/60000 (21%)]\tLoss: 0.404366\n",
      "Train Epoch: 9 [19200/60000 (32%)]\tLoss: 0.192218\n",
      "Train Epoch: 9 [25600/60000 (43%)]\tLoss: 0.389105\n",
      "Train Epoch: 9 [32000/60000 (53%)]\tLoss: 0.274020\n",
      "Train Epoch: 9 [38400/60000 (64%)]\tLoss: 0.352993\n",
      "Train Epoch: 9 [44800/60000 (75%)]\tLoss: 0.284921\n",
      "Train Epoch: 9 [51200/60000 (85%)]\tLoss: 0.281284\n",
      "Train Epoch: 9 [57600/60000 (96%)]\tLoss: 0.137286\n",
      "\n",
      "Test set: Average loss: 0.2764, Accuracy: 9206/10000 (92%)\n",
      "\n"
     ]
    }
   ],
   "source": [
    "train_loader, test_loader = get_dataloader(\"mnist\")\n",
    "for epoch in range(10):\n",
    "    train(epoch, network, train_loader)\n",
    "    test(network, test_loader)"
   ]
  },
  {
   "cell_type": "markdown",
   "metadata": {
    "tags": []
   },
   "source": [
    "## Network Weight Visulization\n",
    "(a): Add code to plot out the network weights as images (one for each output, of size 28 by 28) after the last epoch. Grab a screenshot of the figure and include it in your report. (Hint threads: #1 #2 )"
   ]
  },
  {
   "cell_type": "code",
   "execution_count": 35,
   "metadata": {
    "tags": []
   },
   "outputs": [
    {
     "name": "stdout",
     "output_type": "stream",
     "text": [
      "SingleLayerNet(\n",
      "  (linear): Linear(in_features=784, out_features=10, bias=True)\n",
      ")\n"
     ]
    }
   ],
   "source": [
    "print(network)"
   ]
  },
  {
   "cell_type": "code",
   "execution_count": 36,
   "metadata": {},
   "outputs": [
    {
     "name": "stdout",
     "output_type": "stream",
     "text": [
      "torch.Size([10, 784])\n"
     ]
    }
   ],
   "source": [
    "# import visdom\n",
    "print(network.linear.weight.shape)\n",
    "viz_data = network.linear.weight.reshape(10, 28, 28).detach().numpy()"
   ]
  },
  {
   "cell_type": "code",
   "execution_count": 37,
   "metadata": {},
   "outputs": [],
   "source": [
    "import torchvision\n",
    "def show(imgs):\n",
    "    if not isinstance(imgs, list):\n",
    "        imgs = [imgs]\n",
    "    fix, axs = plt.subplots(ncols=len(imgs), squeeze=False)\n",
    "    for i, img in enumerate(imgs):\n",
    "        img = img.detach()\n",
    "        img = torchvision.transforms.functional.to_pil_image(img)\n",
    "        axs[0, i].imshow(np.asarray(img))\n",
    "        axs[0, i].set(xticklabels=[], yticklabels=[], xticks=[], yticks=[])"
   ]
  },
  {
   "cell_type": "code",
   "execution_count": 38,
   "metadata": {},
   "outputs": [
    {
     "data": {
      "text/plain": [
       "<Figure size 432x288 with 0 Axes>"
      ]
     },
     "metadata": {},
     "output_type": "display_data"
    },
    {
     "data": {
      "image/png": "[encoded data removed]",
      "text/plain": [
       "<Figure size 432x288 with 10 Axes>"
      ]
     },
     "metadata": {
      "needs_background": "light"
     },
     "output_type": "display_data"
    }
   ],
   "source": [
    "plt.figure()\n",
    "f, axarr = plt.subplots(1,10) \n",
    "plt.subplot_tool()\n",
    "\n",
    "for i in range(10):\n",
    "    axarr[i].imshow(viz_data[i], cmap='gray')"
   ]
  },
  {
   "cell_type": "code",
   "execution_count": 39,
   "metadata": {},
   "outputs": [
    {
     "data": {
      "text/plain": [
       "<Figure size 432x288 with 0 Axes>"
      ]
     },
     "metadata": {},
     "output_type": "display_data"
    },
    {
     "data": {
      "image/png": "[encoded data removed]",
      "text/plain": [
       "<Figure size 432x288 with 10 Axes>"
      ]
     },
     "metadata": {
      "needs_background": "light"
     },
     "output_type": "display_data"
    }
   ],
   "source": [
    "# show(viz_data)\n",
    "plt.figure()\n",
    "f, axarr = plt.subplots(1,10) \n",
    "\n",
    "for i in range(10):\n",
    "    axarr[i].imshow(viz_data[i])\n"
   ]
  },
  {
   "cell_type": "markdown",
   "metadata": {
    "tags": []
   },
   "source": [
    "## Train with only 50 examples\n",
    "(b): Reduce the number of training examples to just 50. [Hint: limit the iterator in the train function]. Paste the output into your report and explain what is happening to the model."
   ]
  },
  {
   "cell_type": "markdown",
   "metadata": {},
   "source": [
    "### training with only 50 examples(training_dataset_size = 50)"
   ]
  },
  {
   "cell_type": "code",
   "execution_count": 40,
   "metadata": {
    "colab": {
     "base_uri": "https://localhost:8080/",
     "height": 153
    },
    "id": "c52XmoeCKja2",
    "outputId": "bc492b48-2451-48c0-a1a5-f4220dc6ad88",
    "tags": []
   },
   "outputs": [
    {
     "name": "stdout",
     "output_type": "stream",
     "text": [
      "Train Epoch: 0 [0/50 (0%)]\tLoss: 0.176704\n",
      "\n",
      "Test set: Average loss: 0.2764, Accuracy: 9211/10000 (92%)\n",
      "\n",
      "Train Epoch: 1 [0/50 (0%)]\tLoss: 0.163923\n",
      "\n",
      "Test set: Average loss: 0.2768, Accuracy: 9214/10000 (92%)\n",
      "\n",
      "Train Epoch: 2 [0/50 (0%)]\tLoss: 0.153413\n",
      "\n",
      "Test set: Average loss: 0.2774, Accuracy: 9210/10000 (92%)\n",
      "\n",
      "Train Epoch: 3 [0/50 (0%)]\tLoss: 0.144591\n",
      "\n",
      "Test set: Average loss: 0.2781, Accuracy: 9215/10000 (92%)\n",
      "\n",
      "Train Epoch: 4 [0/50 (0%)]\tLoss: 0.137036\n",
      "\n",
      "Test set: Average loss: 0.2788, Accuracy: 9215/10000 (92%)\n",
      "\n",
      "Train Epoch: 5 [0/50 (0%)]\tLoss: 0.130447\n",
      "\n",
      "Test set: Average loss: 0.2796, Accuracy: 9207/10000 (92%)\n",
      "\n",
      "Train Epoch: 6 [0/50 (0%)]\tLoss: 0.124611\n",
      "\n",
      "Test set: Average loss: 0.2804, Accuracy: 9202/10000 (92%)\n",
      "\n",
      "Train Epoch: 7 [0/50 (0%)]\tLoss: 0.119376\n",
      "\n",
      "Test set: Average loss: 0.2812, Accuracy: 9203/10000 (92%)\n",
      "\n",
      "Train Epoch: 8 [0/50 (0%)]\tLoss: 0.114633\n",
      "\n",
      "Test set: Average loss: 0.2821, Accuracy: 9195/10000 (92%)\n",
      "\n",
      "Train Epoch: 9 [0/50 (0%)]\tLoss: 0.110303\n",
      "\n",
      "Test set: Average loss: 0.2828, Accuracy: 9197/10000 (92%)\n",
      "\n"
     ]
    }
   ],
   "source": [
    "train_loader, test_loader = get_dataloader(\"mnist_limited\")\n",
    "for epoch in range(10):\n",
    "    train(epoch, network, train_loader)\n",
    "    test(network, test_loader)"
   ]
  },
  {
   "cell_type": "markdown",
   "metadata": {},
   "source": [
    "We can observe that the test loss quickly begin to increase which may indicate overfitting. "
   ]
  },
  {
   "cell_type": "markdown",
   "metadata": {
    "tags": []
   },
   "source": [
    "#  Training a Multi-Layer Network on MNIST "
   ]
  },
  {
   "cell_type": "markdown",
   "metadata": {},
   "source": [
    "## (in,1000) (1000,10)\n",
    "- Add an extra layer to the network with 1000 hidden units and a `tanh` non-linearity. [Hint: modify the `Net` class]. Train the model for 10 epochs and save the output into your report."
   ]
  },
  {
   "cell_type": "code",
   "execution_count": 55,
   "metadata": {},
   "outputs": [],
   "source": [
    "class MLP(nn.Module):\n",
    "    def __init__(self, num_inputs, num_outputs):\n",
    "        super(MLP, self).__init__()\n",
    "        self.num_inputs = num_inputs\n",
    "        self.net = nn.Sequential(nn.Linear(num_inputs, 1000), \n",
    "                                 nn.Tanh(),\n",
    "                                 nn.Linear(1000, num_outputs))\n",
    "\n",
    "    def forward(self, input):\n",
    "        input = input.view(-1, self.num_inputs) # reshape input to batch x num_inputs\n",
    "        output = self.net(input)\n",
    "        return output"
   ]
  },
  {
   "cell_type": "code",
   "execution_count": 56,
   "metadata": {
    "tags": []
   },
   "outputs": [],
   "source": [
    "optimizer = optim.SGD(network.parameters(), lr=lr)"
   ]
  },
  {
   "cell_type": "code",
   "execution_count": 53,
   "metadata": {
    "tags": []
   },
   "outputs": [
    {
     "name": "stdout",
     "output_type": "stream",
     "text": [
      "Train Epoch: 0 [0/60000 (0%)]\tLoss: 2.294774\n",
      "Train Epoch: 0 [6400/60000 (11%)]\tLoss: 0.766907\n",
      "Train Epoch: 0 [12800/60000 (21%)]\tLoss: 0.431101\n",
      "Train Epoch: 0 [19200/60000 (32%)]\tLoss: 0.271675\n",
      "Train Epoch: 0 [25600/60000 (43%)]\tLoss: 0.338310\n",
      "Train Epoch: 0 [32000/60000 (53%)]\tLoss: 0.484052\n",
      "Train Epoch: 0 [38400/60000 (64%)]\tLoss: 0.386096\n",
      "Train Epoch: 0 [44800/60000 (75%)]\tLoss: 0.250017\n",
      "Train Epoch: 0 [51200/60000 (85%)]\tLoss: 0.617307\n",
      "Train Epoch: 0 [57600/60000 (96%)]\tLoss: 0.258417\n",
      "\n",
      "Test set: Average loss: 0.3215, Accuracy: 9094/10000 (91%)\n",
      "\n",
      "Train Epoch: 1 [0/60000 (0%)]\tLoss: 0.343855\n",
      "Train Epoch: 1 [6400/60000 (11%)]\tLoss: 0.363263\n",
      "Train Epoch: 1 [12800/60000 (21%)]\tLoss: 0.269906\n",
      "Train Epoch: 1 [19200/60000 (32%)]\tLoss: 0.293156\n",
      "Train Epoch: 1 [25600/60000 (43%)]\tLoss: 0.341459\n",
      "Train Epoch: 1 [32000/60000 (53%)]\tLoss: 0.276104\n",
      "Train Epoch: 1 [38400/60000 (64%)]\tLoss: 0.323892\n",
      "Train Epoch: 1 [44800/60000 (75%)]\tLoss: 0.286199\n",
      "Train Epoch: 1 [51200/60000 (85%)]\tLoss: 0.167438\n",
      "Train Epoch: 1 [57600/60000 (96%)]\tLoss: 0.403702\n",
      "\n",
      "Test set: Average loss: 0.2804, Accuracy: 9204/10000 (92%)\n",
      "\n",
      "Train Epoch: 2 [0/60000 (0%)]\tLoss: 0.406461\n",
      "Train Epoch: 2 [6400/60000 (11%)]\tLoss: 0.261696\n",
      "Train Epoch: 2 [12800/60000 (21%)]\tLoss: 0.243171\n",
      "Train Epoch: 2 [19200/60000 (32%)]\tLoss: 0.248897\n",
      "Train Epoch: 2 [25600/60000 (43%)]\tLoss: 0.298851\n",
      "Train Epoch: 2 [32000/60000 (53%)]\tLoss: 0.317332\n",
      "Train Epoch: 2 [38400/60000 (64%)]\tLoss: 0.259640\n",
      "Train Epoch: 2 [44800/60000 (75%)]\tLoss: 0.208413\n",
      "Train Epoch: 2 [51200/60000 (85%)]\tLoss: 0.134522\n",
      "Train Epoch: 2 [57600/60000 (96%)]\tLoss: 0.305125\n",
      "\n",
      "Test set: Average loss: 0.2600, Accuracy: 9254/10000 (93%)\n",
      "\n",
      "Train Epoch: 3 [0/60000 (0%)]\tLoss: 0.232593\n",
      "Train Epoch: 3 [6400/60000 (11%)]\tLoss: 0.195950\n",
      "Train Epoch: 3 [12800/60000 (21%)]\tLoss: 0.126645\n",
      "Train Epoch: 3 [19200/60000 (32%)]\tLoss: 0.124707\n",
      "Train Epoch: 3 [25600/60000 (43%)]\tLoss: 0.194282\n",
      "Train Epoch: 3 [32000/60000 (53%)]\tLoss: 0.237869\n",
      "Train Epoch: 3 [38400/60000 (64%)]\tLoss: 0.303393\n",
      "Train Epoch: 3 [44800/60000 (75%)]\tLoss: 0.185160\n",
      "Train Epoch: 3 [51200/60000 (85%)]\tLoss: 0.468100\n",
      "Train Epoch: 3 [57600/60000 (96%)]\tLoss: 0.255310\n",
      "\n",
      "Test set: Average loss: 0.2428, Accuracy: 9326/10000 (93%)\n",
      "\n",
      "Train Epoch: 4 [0/60000 (0%)]\tLoss: 0.127895\n",
      "Train Epoch: 4 [6400/60000 (11%)]\tLoss: 0.337994\n",
      "Train Epoch: 4 [12800/60000 (21%)]\tLoss: 0.223967\n",
      "Train Epoch: 4 [19200/60000 (32%)]\tLoss: 0.263911\n",
      "Train Epoch: 4 [25600/60000 (43%)]\tLoss: 0.240063\n",
      "Train Epoch: 4 [32000/60000 (53%)]\tLoss: 0.288707\n",
      "Train Epoch: 4 [38400/60000 (64%)]\tLoss: 0.111689\n",
      "Train Epoch: 4 [44800/60000 (75%)]\tLoss: 0.309890\n",
      "Train Epoch: 4 [51200/60000 (85%)]\tLoss: 0.153889\n",
      "Train Epoch: 4 [57600/60000 (96%)]\tLoss: 0.201002\n",
      "\n",
      "Test set: Average loss: 0.2276, Accuracy: 9360/10000 (94%)\n",
      "\n",
      "Train Epoch: 5 [0/60000 (0%)]\tLoss: 0.235757\n",
      "Train Epoch: 5 [6400/60000 (11%)]\tLoss: 0.151768\n",
      "Train Epoch: 5 [12800/60000 (21%)]\tLoss: 0.188658\n",
      "Train Epoch: 5 [19200/60000 (32%)]\tLoss: 0.198175\n",
      "Train Epoch: 5 [25600/60000 (43%)]\tLoss: 0.285273\n",
      "Train Epoch: 5 [32000/60000 (53%)]\tLoss: 0.258357\n",
      "Train Epoch: 5 [38400/60000 (64%)]\tLoss: 0.211665\n",
      "Train Epoch: 5 [44800/60000 (75%)]\tLoss: 0.238352\n",
      "Train Epoch: 5 [51200/60000 (85%)]\tLoss: 0.270652\n",
      "Train Epoch: 5 [57600/60000 (96%)]\tLoss: 0.333431\n",
      "\n",
      "Test set: Average loss: 0.2124, Accuracy: 9395/10000 (94%)\n",
      "\n",
      "Train Epoch: 6 [0/60000 (0%)]\tLoss: 0.305045\n",
      "Train Epoch: 6 [6400/60000 (11%)]\tLoss: 0.293687\n",
      "Train Epoch: 6 [12800/60000 (21%)]\tLoss: 0.294000\n",
      "Train Epoch: 6 [19200/60000 (32%)]\tLoss: 0.241462\n",
      "Train Epoch: 6 [25600/60000 (43%)]\tLoss: 0.181298\n",
      "Train Epoch: 6 [32000/60000 (53%)]\tLoss: 0.235128\n",
      "Train Epoch: 6 [38400/60000 (64%)]\tLoss: 0.199632\n",
      "Train Epoch: 6 [44800/60000 (75%)]\tLoss: 0.115053\n",
      "Train Epoch: 6 [51200/60000 (85%)]\tLoss: 0.164650\n",
      "Train Epoch: 6 [57600/60000 (96%)]\tLoss: 0.200200\n",
      "\n",
      "Test set: Average loss: 0.1967, Accuracy: 9453/10000 (95%)\n",
      "\n",
      "Train Epoch: 7 [0/60000 (0%)]\tLoss: 0.107312\n",
      "Train Epoch: 7 [6400/60000 (11%)]\tLoss: 0.201892\n",
      "Train Epoch: 7 [12800/60000 (21%)]\tLoss: 0.292973\n",
      "Train Epoch: 7 [19200/60000 (32%)]\tLoss: 0.188030\n",
      "Train Epoch: 7 [25600/60000 (43%)]\tLoss: 0.197625\n",
      "Train Epoch: 7 [32000/60000 (53%)]\tLoss: 0.422206\n",
      "Train Epoch: 7 [38400/60000 (64%)]\tLoss: 0.252053\n",
      "Train Epoch: 7 [44800/60000 (75%)]\tLoss: 0.134162\n",
      "Train Epoch: 7 [51200/60000 (85%)]\tLoss: 0.201251\n",
      "Train Epoch: 7 [57600/60000 (96%)]\tLoss: 0.087124\n",
      "\n",
      "Test set: Average loss: 0.1838, Accuracy: 9483/10000 (95%)\n",
      "\n",
      "Train Epoch: 8 [0/60000 (0%)]\tLoss: 0.220562\n",
      "Train Epoch: 8 [6400/60000 (11%)]\tLoss: 0.271262\n",
      "Train Epoch: 8 [12800/60000 (21%)]\tLoss: 0.098221\n",
      "Train Epoch: 8 [19200/60000 (32%)]\tLoss: 0.293241\n",
      "Train Epoch: 8 [25600/60000 (43%)]\tLoss: 0.133568\n",
      "Train Epoch: 8 [32000/60000 (53%)]\tLoss: 0.121209\n",
      "Train Epoch: 8 [38400/60000 (64%)]\tLoss: 0.389897\n",
      "Train Epoch: 8 [44800/60000 (75%)]\tLoss: 0.215740\n",
      "Train Epoch: 8 [51200/60000 (85%)]\tLoss: 0.193307\n",
      "Train Epoch: 8 [57600/60000 (96%)]\tLoss: 0.204420\n",
      "\n",
      "Test set: Average loss: 0.1735, Accuracy: 9506/10000 (95%)\n",
      "\n",
      "Train Epoch: 9 [0/60000 (0%)]\tLoss: 0.078806\n",
      "Train Epoch: 9 [6400/60000 (11%)]\tLoss: 0.086332\n",
      "Train Epoch: 9 [12800/60000 (21%)]\tLoss: 0.111879\n",
      "Train Epoch: 9 [19200/60000 (32%)]\tLoss: 0.128711\n",
      "Train Epoch: 9 [25600/60000 (43%)]\tLoss: 0.073728\n",
      "Train Epoch: 9 [32000/60000 (53%)]\tLoss: 0.108893\n",
      "Train Epoch: 9 [38400/60000 (64%)]\tLoss: 0.215323\n",
      "Train Epoch: 9 [44800/60000 (75%)]\tLoss: 0.095899\n",
      "Train Epoch: 9 [51200/60000 (85%)]\tLoss: 0.119747\n",
      "Train Epoch: 9 [57600/60000 (96%)]\tLoss: 0.043849\n",
      "\n",
      "Test set: Average loss: 0.1642, Accuracy: 9534/10000 (95%)\n",
      "\n"
     ]
    }
   ],
   "source": [
    "train_loader, test_loader = get_dataloader(\"mnist\")\n",
    "network = MLP(num_inputs=784, num_outputs=10)\n",
    "optimizer = optim.SGD(network.parameters(), lr=lr)\n",
    "for epoch in range(10):\n",
    "    train(epoch, network, train_loader)\n",
    "    test(network, test_loader)"
   ]
  },
  {
   "cell_type": "markdown",
   "metadata": {},
   "source": [
    "The test accuracy is better than single layer"
   ]
  },
  {
   "cell_type": "markdown",
   "metadata": {},
   "source": [
    "## learning_rata = 10\n",
    "-  Now set the learning rate to 10 and observe what happens during training. Save the output in your report and give a brief explanation"
   ]
  },
  {
   "cell_type": "code",
   "execution_count": 57,
   "metadata": {
    "tags": []
   },
   "outputs": [
    {
     "name": "stdout",
     "output_type": "stream",
     "text": [
      "Train Epoch: 0 [0/60000 (0%)]\tLoss: 2.258000\n",
      "Train Epoch: 0 [6400/60000 (11%)]\tLoss: 1785.792725\n",
      "Train Epoch: 0 [12800/60000 (21%)]\tLoss: 1257.922607\n",
      "Train Epoch: 0 [19200/60000 (32%)]\tLoss: 419.371887\n",
      "Train Epoch: 0 [25600/60000 (43%)]\tLoss: 814.607239\n",
      "Train Epoch: 0 [32000/60000 (53%)]\tLoss: 258.325928\n",
      "Train Epoch: 0 [38400/60000 (64%)]\tLoss: 425.608337\n",
      "Train Epoch: 0 [44800/60000 (75%)]\tLoss: 242.129074\n",
      "Train Epoch: 0 [51200/60000 (85%)]\tLoss: 276.902618\n",
      "Train Epoch: 0 [57600/60000 (96%)]\tLoss: 327.732056\n",
      "\n",
      "Test set: Average loss: 330.7383, Accuracy: 5514/10000 (55%)\n",
      "\n",
      "Train Epoch: 1 [0/60000 (0%)]\tLoss: 359.660065\n",
      "Train Epoch: 1 [6400/60000 (11%)]\tLoss: 829.295593\n",
      "Train Epoch: 1 [12800/60000 (21%)]\tLoss: 637.358582\n",
      "Train Epoch: 1 [19200/60000 (32%)]\tLoss: 1237.078247\n",
      "Train Epoch: 1 [25600/60000 (43%)]\tLoss: 348.999451\n",
      "Train Epoch: 1 [32000/60000 (53%)]\tLoss: 301.406311\n",
      "Train Epoch: 1 [38400/60000 (64%)]\tLoss: 164.288513\n",
      "Train Epoch: 1 [44800/60000 (75%)]\tLoss: 318.029083\n",
      "Train Epoch: 1 [51200/60000 (85%)]\tLoss: 327.938843\n",
      "Train Epoch: 1 [57600/60000 (96%)]\tLoss: 783.565674\n",
      "\n",
      "Test set: Average loss: 229.5739, Accuracy: 6105/10000 (61%)\n",
      "\n",
      "Train Epoch: 2 [0/60000 (0%)]\tLoss: 211.574844\n",
      "Train Epoch: 2 [6400/60000 (11%)]\tLoss: 539.063477\n",
      "Train Epoch: 2 [12800/60000 (21%)]\tLoss: 451.570404\n",
      "Train Epoch: 2 [19200/60000 (32%)]\tLoss: 270.386261\n",
      "Train Epoch: 2 [25600/60000 (43%)]\tLoss: 265.805542\n",
      "Train Epoch: 2 [32000/60000 (53%)]\tLoss: 609.365601\n",
      "Train Epoch: 2 [38400/60000 (64%)]\tLoss: 439.632446\n",
      "Train Epoch: 2 [44800/60000 (75%)]\tLoss: 322.533966\n",
      "Train Epoch: 2 [51200/60000 (85%)]\tLoss: 114.514809\n",
      "Train Epoch: 2 [57600/60000 (96%)]\tLoss: 152.635071\n",
      "\n",
      "Test set: Average loss: 237.3307, Accuracy: 6288/10000 (63%)\n",
      "\n",
      "Train Epoch: 3 [0/60000 (0%)]\tLoss: 222.887909\n",
      "Train Epoch: 3 [6400/60000 (11%)]\tLoss: 188.891754\n",
      "Train Epoch: 3 [12800/60000 (21%)]\tLoss: 294.367065\n",
      "Train Epoch: 3 [19200/60000 (32%)]\tLoss: 128.809036\n",
      "Train Epoch: 3 [25600/60000 (43%)]\tLoss: 189.943314\n",
      "Train Epoch: 3 [32000/60000 (53%)]\tLoss: 303.254578\n",
      "Train Epoch: 3 [38400/60000 (64%)]\tLoss: 217.647034\n",
      "Train Epoch: 3 [44800/60000 (75%)]\tLoss: 381.805725\n",
      "Train Epoch: 3 [51200/60000 (85%)]\tLoss: 158.618652\n",
      "Train Epoch: 3 [57600/60000 (96%)]\tLoss: 173.201599\n",
      "\n",
      "Test set: Average loss: 510.1927, Accuracy: 4639/10000 (46%)\n",
      "\n",
      "Train Epoch: 4 [0/60000 (0%)]\tLoss: 496.568756\n",
      "Train Epoch: 4 [6400/60000 (11%)]\tLoss: 201.657913\n",
      "Train Epoch: 4 [12800/60000 (21%)]\tLoss: 665.608459\n",
      "Train Epoch: 4 [19200/60000 (32%)]\tLoss: 196.120483\n",
      "Train Epoch: 4 [25600/60000 (43%)]\tLoss: 160.017792\n",
      "Train Epoch: 4 [32000/60000 (53%)]\tLoss: 113.924545\n",
      "Train Epoch: 4 [38400/60000 (64%)]\tLoss: 660.586548\n",
      "Train Epoch: 4 [44800/60000 (75%)]\tLoss: 191.119141\n",
      "Train Epoch: 4 [51200/60000 (85%)]\tLoss: 424.527161\n",
      "Train Epoch: 4 [57600/60000 (96%)]\tLoss: 224.015945\n",
      "\n",
      "Test set: Average loss: 527.0949, Accuracy: 5801/10000 (58%)\n",
      "\n",
      "Train Epoch: 5 [0/60000 (0%)]\tLoss: 659.419861\n",
      "Train Epoch: 5 [6400/60000 (11%)]\tLoss: 233.838287\n",
      "Train Epoch: 5 [12800/60000 (21%)]\tLoss: 268.229919\n",
      "Train Epoch: 5 [19200/60000 (32%)]\tLoss: 219.128693\n",
      "Train Epoch: 5 [25600/60000 (43%)]\tLoss: 143.056244\n",
      "Train Epoch: 5 [32000/60000 (53%)]\tLoss: 135.095184\n",
      "Train Epoch: 5 [38400/60000 (64%)]\tLoss: 265.160095\n",
      "Train Epoch: 5 [44800/60000 (75%)]\tLoss: 223.756241\n",
      "Train Epoch: 5 [51200/60000 (85%)]\tLoss: 146.195251\n",
      "Train Epoch: 5 [57600/60000 (96%)]\tLoss: 135.145721\n",
      "\n",
      "Test set: Average loss: 234.4699, Accuracy: 6249/10000 (62%)\n",
      "\n",
      "Train Epoch: 6 [0/60000 (0%)]\tLoss: 277.845551\n",
      "Train Epoch: 6 [6400/60000 (11%)]\tLoss: 167.018402\n",
      "Train Epoch: 6 [12800/60000 (21%)]\tLoss: 157.584961\n",
      "Train Epoch: 6 [19200/60000 (32%)]\tLoss: 330.396606\n",
      "Train Epoch: 6 [25600/60000 (43%)]\tLoss: 462.918091\n",
      "Train Epoch: 6 [32000/60000 (53%)]\tLoss: 141.217407\n",
      "Train Epoch: 6 [38400/60000 (64%)]\tLoss: 381.658417\n",
      "Train Epoch: 6 [44800/60000 (75%)]\tLoss: 521.955688\n",
      "Train Epoch: 6 [51200/60000 (85%)]\tLoss: 173.950485\n",
      "Train Epoch: 6 [57600/60000 (96%)]\tLoss: 249.418365\n",
      "\n",
      "Test set: Average loss: 383.1067, Accuracy: 5159/10000 (52%)\n",
      "\n",
      "Train Epoch: 7 [0/60000 (0%)]\tLoss: 353.501343\n",
      "Train Epoch: 7 [6400/60000 (11%)]\tLoss: 314.791870\n",
      "Train Epoch: 7 [12800/60000 (21%)]\tLoss: 189.180908\n",
      "Train Epoch: 7 [19200/60000 (32%)]\tLoss: 203.428314\n",
      "Train Epoch: 7 [25600/60000 (43%)]\tLoss: 247.976074\n",
      "Train Epoch: 7 [32000/60000 (53%)]\tLoss: 146.349884\n",
      "Train Epoch: 7 [38400/60000 (64%)]\tLoss: 119.121201\n",
      "Train Epoch: 7 [44800/60000 (75%)]\tLoss: 389.669067\n",
      "Train Epoch: 7 [51200/60000 (85%)]\tLoss: 224.214233\n",
      "Train Epoch: 7 [57600/60000 (96%)]\tLoss: 151.626144\n",
      "\n",
      "Test set: Average loss: 404.3616, Accuracy: 5928/10000 (59%)\n",
      "\n",
      "Train Epoch: 8 [0/60000 (0%)]\tLoss: 390.228668\n",
      "Train Epoch: 8 [6400/60000 (11%)]\tLoss: 614.147705\n",
      "Train Epoch: 8 [12800/60000 (21%)]\tLoss: 241.649109\n",
      "Train Epoch: 8 [19200/60000 (32%)]\tLoss: 345.663116\n",
      "Train Epoch: 8 [25600/60000 (43%)]\tLoss: 199.342926\n",
      "Train Epoch: 8 [32000/60000 (53%)]\tLoss: 255.943115\n",
      "Train Epoch: 8 [38400/60000 (64%)]\tLoss: 121.621658\n",
      "Train Epoch: 8 [44800/60000 (75%)]\tLoss: 156.112259\n",
      "Train Epoch: 8 [51200/60000 (85%)]\tLoss: 243.102158\n",
      "Train Epoch: 8 [57600/60000 (96%)]\tLoss: 264.184021\n",
      "\n",
      "Test set: Average loss: 549.0858, Accuracy: 5404/10000 (54%)\n",
      "\n",
      "Train Epoch: 9 [0/60000 (0%)]\tLoss: 560.572815\n",
      "Train Epoch: 9 [6400/60000 (11%)]\tLoss: 376.317780\n",
      "Train Epoch: 9 [12800/60000 (21%)]\tLoss: 232.112549\n",
      "Train Epoch: 9 [19200/60000 (32%)]\tLoss: 232.343262\n",
      "Train Epoch: 9 [25600/60000 (43%)]\tLoss: 98.768440\n",
      "Train Epoch: 9 [32000/60000 (53%)]\tLoss: 323.521576\n",
      "Train Epoch: 9 [38400/60000 (64%)]\tLoss: 282.039246\n",
      "Train Epoch: 9 [44800/60000 (75%)]\tLoss: 118.745140\n",
      "Train Epoch: 9 [51200/60000 (85%)]\tLoss: 223.388519\n",
      "Train Epoch: 9 [57600/60000 (96%)]\tLoss: 132.564514\n",
      "\n",
      "Test set: Average loss: 561.5990, Accuracy: 5599/10000 (56%)\n",
      "\n"
     ]
    }
   ],
   "source": [
    "train_loader, test_loader = get_dataloader(\"mnist\")\n",
    "network = MLP(num_inputs=784, num_outputs=10)\n",
    "optimizer = optim.SGD(network.parameters(), lr=10)\n",
    "for epoch in range(10):\n",
    "    train(epoch, network, train_loader)\n",
    "    test(network, test_loader)"
   ]
  },
  {
   "cell_type": "markdown",
   "metadata": {},
   "source": [
    "A large learning rate will lead to an unstable learning schema/process(loss do no consistently decrease), and the model is hard to converge."
   ]
  },
  {
   "cell_type": "markdown",
   "metadata": {},
   "source": [
    "# Training a Convolutional Network on CIFAR\n",
    "To change over to the CIFAR-10 dataset, change the `options` cell's `dataset` variable to `'cifar10'`.\n",
    "\n",
    "- Create a convolutional network with the following architecture:\n",
    "  - Convolution with 5 by 5 filters, 16 feature maps + Tanh nonlinearity.\n",
    "  - 2 by 2 max pooling (non-overlapping).\n",
    "  - Convolution with 5 by 5 filters, 128 feature maps + Tanh nonlinearity.\n",
    "  - 2 by 2 max pooling (non-overlapping).\n",
    "  - Flatten to vector.\n",
    "  - Linear layer with 64 hidden units + Tanh nonlinearity.\n",
    "  - Linear layer to 10 output units.\n",
    "\n",
    "Train it for 20 epochs on the CIFAR-10 training set and copy the output\n",
    "into your report, along with a image of the first layer filters."
   ]
  },
  {
   "cell_type": "markdown",
   "metadata": {},
   "source": [
    "## Training"
   ]
  },
  {
   "cell_type": "code",
   "execution_count": 105,
   "metadata": {},
   "outputs": [],
   "source": [
    "class CNN(nn.Module):\n",
    "    def __init__(self, num_inputs, num_outputs):\n",
    "        super(CNN, self).__init__()\n",
    "        self.net = nn.Sequential( \n",
    "            nn.Conv2d(in_channels=3, out_channels=16, kernel_size=(5,5)),\n",
    "            nn.Tanh(),\n",
    "            nn.MaxPool2d((2, 2)),\n",
    "            nn.Conv2d(in_channels=16, out_channels=128, kernel_size=(5,5)),\n",
    "            nn.Tanh(),\n",
    "            nn.MaxPool2d((2, 2)),\n",
    "            nn.Flatten(1,-1),\n",
    "            nn.Linear(3200, 64),\n",
    "            nn.Tanh(),\n",
    "            nn.Linear(64,10)\n",
    "        )\n",
    "\n",
    "    def forward(self, input):\n",
    "        output = self.net(input)\n",
    "        # print(output.shape)\n",
    "        return output\n",
    "    "
   ]
  },
  {
   "cell_type": "code",
   "execution_count": 106,
   "metadata": {
    "tags": []
   },
   "outputs": [
    {
     "name": "stdout",
     "output_type": "stream",
     "text": [
      "Files already downloaded and verified\n",
      "Files already downloaded and verified\n",
      "Train Epoch: 0 [0/50000 (0%)]\tLoss: 2.306343\n",
      "Train Epoch: 0 [6400/50000 (13%)]\tLoss: 2.129978\n",
      "Train Epoch: 0 [12800/50000 (26%)]\tLoss: 2.027687\n",
      "Train Epoch: 0 [19200/50000 (38%)]\tLoss: 2.072817\n",
      "Train Epoch: 0 [25600/50000 (51%)]\tLoss: 1.805655\n",
      "Train Epoch: 0 [32000/50000 (64%)]\tLoss: 1.981978\n",
      "Train Epoch: 0 [38400/50000 (77%)]\tLoss: 1.783425\n",
      "Train Epoch: 0 [44800/50000 (90%)]\tLoss: 1.891196\n",
      "\n",
      "Test set: Average loss: 1.7544, Accuracy: 3836/10000 (38%)\n",
      "\n",
      "Train Epoch: 1 [0/50000 (0%)]\tLoss: 1.879808\n",
      "Train Epoch: 1 [6400/50000 (13%)]\tLoss: 1.855603\n",
      "Train Epoch: 1 [12800/50000 (26%)]\tLoss: 1.873870\n",
      "Train Epoch: 1 [19200/50000 (38%)]\tLoss: 1.660474\n",
      "Train Epoch: 1 [25600/50000 (51%)]\tLoss: 1.650967\n",
      "Train Epoch: 1 [32000/50000 (64%)]\tLoss: 1.611355\n",
      "Train Epoch: 1 [38400/50000 (77%)]\tLoss: 1.570895\n",
      "Train Epoch: 1 [44800/50000 (90%)]\tLoss: 1.529107\n",
      "\n",
      "Test set: Average loss: 1.5803, Accuracy: 4358/10000 (44%)\n",
      "\n",
      "Train Epoch: 2 [0/50000 (0%)]\tLoss: 1.713676\n",
      "Train Epoch: 2 [6400/50000 (13%)]\tLoss: 1.580712\n",
      "Train Epoch: 2 [12800/50000 (26%)]\tLoss: 1.518702\n",
      "Train Epoch: 2 [19200/50000 (38%)]\tLoss: 1.544393\n",
      "Train Epoch: 2 [25600/50000 (51%)]\tLoss: 1.741685\n",
      "Train Epoch: 2 [32000/50000 (64%)]\tLoss: 1.474275\n",
      "Train Epoch: 2 [38400/50000 (77%)]\tLoss: 1.425996\n",
      "Train Epoch: 2 [44800/50000 (90%)]\tLoss: 1.463163\n",
      "\n",
      "Test set: Average loss: 1.4587, Accuracy: 4809/10000 (48%)\n",
      "\n",
      "Train Epoch: 3 [0/50000 (0%)]\tLoss: 1.308789\n",
      "Train Epoch: 3 [6400/50000 (13%)]\tLoss: 1.388596\n",
      "Train Epoch: 3 [12800/50000 (26%)]\tLoss: 1.200482\n",
      "Train Epoch: 3 [19200/50000 (38%)]\tLoss: 1.232403\n",
      "Train Epoch: 3 [25600/50000 (51%)]\tLoss: 1.325491\n",
      "Train Epoch: 3 [32000/50000 (64%)]\tLoss: 1.381464\n",
      "Train Epoch: 3 [38400/50000 (77%)]\tLoss: 1.446969\n",
      "Train Epoch: 3 [44800/50000 (90%)]\tLoss: 1.504975\n",
      "\n",
      "Test set: Average loss: 1.4109, Accuracy: 4942/10000 (49%)\n",
      "\n",
      "Train Epoch: 4 [0/50000 (0%)]\tLoss: 1.519533\n",
      "Train Epoch: 4 [6400/50000 (13%)]\tLoss: 1.446303\n",
      "Train Epoch: 4 [12800/50000 (26%)]\tLoss: 1.285952\n",
      "Train Epoch: 4 [19200/50000 (38%)]\tLoss: 1.494461\n",
      "Train Epoch: 4 [25600/50000 (51%)]\tLoss: 1.550328\n",
      "Train Epoch: 4 [32000/50000 (64%)]\tLoss: 1.155321\n",
      "Train Epoch: 4 [38400/50000 (77%)]\tLoss: 1.307805\n",
      "Train Epoch: 4 [44800/50000 (90%)]\tLoss: 1.198220\n",
      "\n",
      "Test set: Average loss: 1.3207, Accuracy: 5255/10000 (53%)\n",
      "\n",
      "Train Epoch: 5 [0/50000 (0%)]\tLoss: 1.231592\n",
      "Train Epoch: 5 [6400/50000 (13%)]\tLoss: 1.380239\n",
      "Train Epoch: 5 [12800/50000 (26%)]\tLoss: 1.317932\n",
      "Train Epoch: 5 [19200/50000 (38%)]\tLoss: 1.189957\n",
      "Train Epoch: 5 [25600/50000 (51%)]\tLoss: 1.461128\n",
      "Train Epoch: 5 [32000/50000 (64%)]\tLoss: 1.319767\n",
      "Train Epoch: 5 [38400/50000 (77%)]\tLoss: 1.355104\n",
      "Train Epoch: 5 [44800/50000 (90%)]\tLoss: 1.271053\n",
      "\n",
      "Test set: Average loss: 1.2884, Accuracy: 5414/10000 (54%)\n",
      "\n",
      "Train Epoch: 6 [0/50000 (0%)]\tLoss: 1.326502\n",
      "Train Epoch: 6 [6400/50000 (13%)]\tLoss: 1.267836\n",
      "Train Epoch: 6 [12800/50000 (26%)]\tLoss: 1.178762\n",
      "Train Epoch: 6 [19200/50000 (38%)]\tLoss: 1.258558\n",
      "Train Epoch: 6 [25600/50000 (51%)]\tLoss: 1.279546\n",
      "Train Epoch: 6 [32000/50000 (64%)]\tLoss: 1.242984\n",
      "Train Epoch: 6 [38400/50000 (77%)]\tLoss: 1.220992\n",
      "Train Epoch: 6 [44800/50000 (90%)]\tLoss: 1.571632\n",
      "\n",
      "Test set: Average loss: 1.2531, Accuracy: 5519/10000 (55%)\n",
      "\n",
      "Train Epoch: 7 [0/50000 (0%)]\tLoss: 1.221134\n",
      "Train Epoch: 7 [6400/50000 (13%)]\tLoss: 1.504828\n",
      "Train Epoch: 7 [12800/50000 (26%)]\tLoss: 1.134823\n",
      "Train Epoch: 7 [19200/50000 (38%)]\tLoss: 1.160072\n",
      "Train Epoch: 7 [25600/50000 (51%)]\tLoss: 1.088440\n",
      "Train Epoch: 7 [32000/50000 (64%)]\tLoss: 1.214306\n",
      "Train Epoch: 7 [38400/50000 (77%)]\tLoss: 1.457230\n",
      "Train Epoch: 7 [44800/50000 (90%)]\tLoss: 1.038115\n",
      "\n",
      "Test set: Average loss: 1.1936, Accuracy: 5769/10000 (58%)\n",
      "\n",
      "Train Epoch: 8 [0/50000 (0%)]\tLoss: 1.243872\n",
      "Train Epoch: 8 [6400/50000 (13%)]\tLoss: 1.147605\n",
      "Train Epoch: 8 [12800/50000 (26%)]\tLoss: 1.209626\n",
      "Train Epoch: 8 [19200/50000 (38%)]\tLoss: 1.170702\n",
      "Train Epoch: 8 [25600/50000 (51%)]\tLoss: 0.947485\n",
      "Train Epoch: 8 [32000/50000 (64%)]\tLoss: 1.050346\n",
      "Train Epoch: 8 [38400/50000 (77%)]\tLoss: 1.091905\n",
      "Train Epoch: 8 [44800/50000 (90%)]\tLoss: 0.998939\n",
      "\n",
      "Test set: Average loss: 1.2441, Accuracy: 5632/10000 (56%)\n",
      "\n",
      "Train Epoch: 9 [0/50000 (0%)]\tLoss: 1.213795\n",
      "Train Epoch: 9 [6400/50000 (13%)]\tLoss: 1.264667\n",
      "Train Epoch: 9 [12800/50000 (26%)]\tLoss: 0.855925\n",
      "Train Epoch: 9 [19200/50000 (38%)]\tLoss: 1.065133\n",
      "Train Epoch: 9 [25600/50000 (51%)]\tLoss: 1.297554\n",
      "Train Epoch: 9 [32000/50000 (64%)]\tLoss: 1.086133\n",
      "Train Epoch: 9 [38400/50000 (77%)]\tLoss: 0.948027\n",
      "Train Epoch: 9 [44800/50000 (90%)]\tLoss: 1.152602\n",
      "\n",
      "Test set: Average loss: 1.1316, Accuracy: 5997/10000 (60%)\n",
      "\n",
      "Train Epoch: 10 [0/50000 (0%)]\tLoss: 0.788875\n",
      "Train Epoch: 10 [6400/50000 (13%)]\tLoss: 0.963006\n",
      "Train Epoch: 10 [12800/50000 (26%)]\tLoss: 1.056863\n",
      "Train Epoch: 10 [19200/50000 (38%)]\tLoss: 1.028754\n",
      "Train Epoch: 10 [25600/50000 (51%)]\tLoss: 1.258834\n",
      "Train Epoch: 10 [32000/50000 (64%)]\tLoss: 0.955198\n",
      "Train Epoch: 10 [38400/50000 (77%)]\tLoss: 1.119303\n",
      "Train Epoch: 10 [44800/50000 (90%)]\tLoss: 0.788261\n",
      "\n",
      "Test set: Average loss: 1.0836, Accuracy: 6133/10000 (61%)\n",
      "\n",
      "Train Epoch: 11 [0/50000 (0%)]\tLoss: 0.993709\n",
      "Train Epoch: 11 [6400/50000 (13%)]\tLoss: 0.958530\n",
      "Train Epoch: 11 [12800/50000 (26%)]\tLoss: 0.963141\n",
      "Train Epoch: 11 [19200/50000 (38%)]\tLoss: 1.108202\n",
      "Train Epoch: 11 [25600/50000 (51%)]\tLoss: 1.033841\n",
      "Train Epoch: 11 [32000/50000 (64%)]\tLoss: 0.736428\n",
      "Train Epoch: 11 [38400/50000 (77%)]\tLoss: 0.972712\n",
      "Train Epoch: 11 [44800/50000 (90%)]\tLoss: 1.110828\n",
      "\n",
      "Test set: Average loss: 1.0531, Accuracy: 6262/10000 (63%)\n",
      "\n",
      "Train Epoch: 12 [0/50000 (0%)]\tLoss: 0.854994\n",
      "Train Epoch: 12 [6400/50000 (13%)]\tLoss: 1.069373\n",
      "Train Epoch: 12 [12800/50000 (26%)]\tLoss: 0.994687\n",
      "Train Epoch: 12 [19200/50000 (38%)]\tLoss: 1.023742\n",
      "Train Epoch: 12 [25600/50000 (51%)]\tLoss: 0.865664\n",
      "Train Epoch: 12 [32000/50000 (64%)]\tLoss: 0.918207\n",
      "Train Epoch: 12 [38400/50000 (77%)]\tLoss: 1.269708\n",
      "Train Epoch: 12 [44800/50000 (90%)]\tLoss: 1.109906\n",
      "\n",
      "Test set: Average loss: 1.0503, Accuracy: 6321/10000 (63%)\n",
      "\n",
      "Train Epoch: 13 [0/50000 (0%)]\tLoss: 0.988195\n",
      "Train Epoch: 13 [6400/50000 (13%)]\tLoss: 0.782751\n",
      "Train Epoch: 13 [12800/50000 (26%)]\tLoss: 1.004051\n",
      "Train Epoch: 13 [19200/50000 (38%)]\tLoss: 1.073267\n",
      "Train Epoch: 13 [25600/50000 (51%)]\tLoss: 1.061158\n",
      "Train Epoch: 13 [32000/50000 (64%)]\tLoss: 0.853768\n",
      "Train Epoch: 13 [38400/50000 (77%)]\tLoss: 0.799520\n",
      "Train Epoch: 13 [44800/50000 (90%)]\tLoss: 0.958047\n",
      "\n",
      "Test set: Average loss: 1.0631, Accuracy: 6257/10000 (63%)\n",
      "\n",
      "Train Epoch: 14 [0/50000 (0%)]\tLoss: 0.998516\n",
      "Train Epoch: 14 [6400/50000 (13%)]\tLoss: 0.923275\n",
      "Train Epoch: 14 [12800/50000 (26%)]\tLoss: 0.836649\n",
      "Train Epoch: 14 [19200/50000 (38%)]\tLoss: 0.810384\n",
      "Train Epoch: 14 [25600/50000 (51%)]\tLoss: 0.872541\n",
      "Train Epoch: 14 [32000/50000 (64%)]\tLoss: 0.837325\n",
      "Train Epoch: 14 [38400/50000 (77%)]\tLoss: 0.867515\n",
      "Train Epoch: 14 [44800/50000 (90%)]\tLoss: 0.851310\n",
      "\n",
      "Test set: Average loss: 0.9911, Accuracy: 6499/10000 (65%)\n",
      "\n",
      "Train Epoch: 15 [0/50000 (0%)]\tLoss: 0.897952\n",
      "Train Epoch: 15 [6400/50000 (13%)]\tLoss: 0.731559\n",
      "Train Epoch: 15 [12800/50000 (26%)]\tLoss: 0.965008\n",
      "Train Epoch: 15 [19200/50000 (38%)]\tLoss: 1.067131\n",
      "Train Epoch: 15 [25600/50000 (51%)]\tLoss: 0.742024\n",
      "Train Epoch: 15 [32000/50000 (64%)]\tLoss: 1.075343\n",
      "Train Epoch: 15 [38400/50000 (77%)]\tLoss: 1.025390\n",
      "Train Epoch: 15 [44800/50000 (90%)]\tLoss: 0.711010\n",
      "\n",
      "Test set: Average loss: 0.9733, Accuracy: 6570/10000 (66%)\n",
      "\n",
      "Train Epoch: 16 [0/50000 (0%)]\tLoss: 1.106637\n",
      "Train Epoch: 16 [6400/50000 (13%)]\tLoss: 0.683766\n",
      "Train Epoch: 16 [12800/50000 (26%)]\tLoss: 0.993298\n",
      "Train Epoch: 16 [19200/50000 (38%)]\tLoss: 0.847373\n",
      "Train Epoch: 16 [25600/50000 (51%)]\tLoss: 0.701259\n",
      "Train Epoch: 16 [32000/50000 (64%)]\tLoss: 0.809659\n",
      "Train Epoch: 16 [38400/50000 (77%)]\tLoss: 0.991570\n",
      "Train Epoch: 16 [44800/50000 (90%)]\tLoss: 1.172081\n",
      "\n",
      "Test set: Average loss: 1.0189, Accuracy: 6410/10000 (64%)\n",
      "\n",
      "Train Epoch: 17 [0/50000 (0%)]\tLoss: 1.094171\n",
      "Train Epoch: 17 [6400/50000 (13%)]\tLoss: 0.722421\n",
      "Train Epoch: 17 [12800/50000 (26%)]\tLoss: 0.709335\n",
      "Train Epoch: 17 [19200/50000 (38%)]\tLoss: 0.682914\n",
      "Train Epoch: 17 [25600/50000 (51%)]\tLoss: 0.721110\n",
      "Train Epoch: 17 [32000/50000 (64%)]\tLoss: 0.769484\n",
      "Train Epoch: 17 [38400/50000 (77%)]\tLoss: 0.989978\n",
      "Train Epoch: 17 [44800/50000 (90%)]\tLoss: 0.838530\n",
      "\n",
      "Test set: Average loss: 1.0561, Accuracy: 6271/10000 (63%)\n",
      "\n",
      "Train Epoch: 18 [0/50000 (0%)]\tLoss: 0.855468\n",
      "Train Epoch: 18 [6400/50000 (13%)]\tLoss: 0.866880\n",
      "Train Epoch: 18 [12800/50000 (26%)]\tLoss: 0.950794\n",
      "Train Epoch: 18 [19200/50000 (38%)]\tLoss: 0.802638\n",
      "Train Epoch: 18 [25600/50000 (51%)]\tLoss: 0.774176\n",
      "Train Epoch: 18 [32000/50000 (64%)]\tLoss: 0.922941\n",
      "Train Epoch: 18 [38400/50000 (77%)]\tLoss: 0.620643\n",
      "Train Epoch: 18 [44800/50000 (90%)]\tLoss: 0.692109\n",
      "\n",
      "Test set: Average loss: 0.9758, Accuracy: 6591/10000 (66%)\n",
      "\n",
      "Train Epoch: 19 [0/50000 (0%)]\tLoss: 0.990211\n",
      "Train Epoch: 19 [6400/50000 (13%)]\tLoss: 0.985885\n",
      "Train Epoch: 19 [12800/50000 (26%)]\tLoss: 0.669622\n",
      "Train Epoch: 19 [19200/50000 (38%)]\tLoss: 0.759666\n",
      "Train Epoch: 19 [25600/50000 (51%)]\tLoss: 0.633225\n",
      "Train Epoch: 19 [32000/50000 (64%)]\tLoss: 0.857683\n",
      "Train Epoch: 19 [38400/50000 (77%)]\tLoss: 1.078739\n",
      "Train Epoch: 19 [44800/50000 (90%)]\tLoss: 0.880087\n",
      "\n",
      "Test set: Average loss: 1.0258, Accuracy: 6476/10000 (65%)\n",
      "\n"
     ]
    }
   ],
   "source": [
    "train_loader, test_loader = get_dataloader(\"cifar10\")\n",
    "network = CNN(num_inputs=3072, num_outputs=10).cuda()\n",
    "optimizer = optim.SGD(network.parameters(), lr=0.01)\n",
    "for epoch in range(20):\n",
    "    train(epoch, network, train_loader)\n",
    "    test(network, test_loader)"
   ]
  },
  {
   "cell_type": "markdown",
   "metadata": {},
   "source": [
    "The model do no converge after 20 epochs."
   ]
  },
  {
   "cell_type": "markdown",
   "metadata": {},
   "source": [
    "## filter visulization"
   ]
  },
  {
   "cell_type": "code",
   "execution_count": 116,
   "metadata": {},
   "outputs": [
    {
     "name": "stdout",
     "output_type": "stream",
     "text": [
      "torch.Size([16, 3, 5, 5])\n"
     ]
    },
    {
     "data": {
      "image/png": "[encoded data removed]",
      "text/plain": [
       "<Figure size 1440x1440 with 16 Axes>"
      ]
     },
     "metadata": {
      "needs_background": "light"
     },
     "output_type": "display_data"
    }
   ],
   "source": [
    "viz_data = model.net[0].weight\n",
    "print(viz_data.shape)\n",
    "\n",
    "plt.figure(figsize=(20, 20))\n",
    "for i, filter in enumerate(viz_data):\n",
    "    plt.subplot(4, 4, i+1) \n",
    "    plt.imshow(filter[0, :, :].cpu().detach(), cmap='gray')\n",
    "    plt.axis('off')\n",
    "plt.show()"
   ]
  },
  {
   "cell_type": "markdown",
   "metadata": {},
   "source": [
    "## model summary\n",
    "Give a breakdown of the parameters within the above model, and the overall number."
   ]
  },
  {
   "cell_type": "code",
   "execution_count": 90,
   "metadata": {},
   "outputs": [
    {
     "name": "stdout",
     "output_type": "stream",
     "text": [
      "----------------------------------------------------------------\n",
      "        Layer (type)               Output Shape         Param #\n",
      "================================================================\n",
      "            Conv2d-1           [-1, 16, 28, 28]           1,216\n",
      "              Tanh-2           [-1, 16, 28, 28]               0\n",
      "         MaxPool2d-3           [-1, 16, 14, 14]               0\n",
      "            Conv2d-4          [-1, 128, 10, 10]          51,328\n",
      "              Tanh-5          [-1, 128, 10, 10]               0\n",
      "         MaxPool2d-6            [-1, 128, 5, 5]               0\n",
      "           Flatten-7                 [-1, 3200]               0\n",
      "            Linear-8                   [-1, 64]         204,864\n",
      "              Tanh-9                   [-1, 64]               0\n",
      "           Linear-10                   [-1, 10]             650\n",
      "================================================================\n",
      "Total params: 258,058\n",
      "Trainable params: 258,058\n",
      "Non-trainable params: 0\n",
      "----------------------------------------------------------------\n",
      "Input size (MB): 0.01\n",
      "Forward/backward pass size (MB): 0.46\n",
      "Params size (MB): 0.98\n",
      "Estimated Total Size (MB): 1.46\n",
      "----------------------------------------------------------------\n"
     ]
    }
   ],
   "source": [
    "import torchvision.models as models\n",
    "from torchsummary import summary\n",
    "\n",
    "model = CNN(num_inputs=3072, num_outputs=10).cuda()\n",
    " \n",
    "summary(model, (3, 32, 32))\n",
    "# -1 represent the batch size here"
   ]
  },
  {
   "cell_type": "markdown",
   "metadata": {},
   "source": [
    "Total params: 5,970 "
   ]
  }
 ],
 "metadata": {
  "accelerator": "GPU",
  "colab": {
   "collapsed_sections": [],
   "name": "Assignment 1.1 - Computer Vision CSCI-GA.2272-001.ipynb",
   "provenance": []
  },
  "kernelspec": {
   "display_name": "Python 3 (ipykernel)",
   "language": "python",
   "name": "python3"
  },
  "language_info": {
   "codemirror_mode": {
    "name": "ipython",
    "version": 3
   },
   "file_extension": ".py",
   "mimetype": "text/x-python",
   "name": "python",
   "nbconvert_exporter": "python",
   "pygments_lexer": "ipython3",
   "version": "3.8.12"
  },
  "toc-autonumbering": true,
  "widgets": {
   "application/vnd.jupyter.widget-state+json": {
    "04539c4495c64d11b42905b3030fefff": {
     "model_module": "@jupyter-widgets/controls",
     "model_module_version": "1.5.0",
     "model_name": "HBoxModel",
     "state": {
      "_dom_classes": [],
      "_model_module": "@jupyter-widgets/controls",
      "_model_module_version": "1.5.0",
      "_model_name": "HBoxModel",
      "_view_count": null,
      "_view_module": "@jupyter-widgets/controls",
      "_view_module_version": "1.5.0",
      "_view_name": "HBoxView",
      "box_style": "",
      "children": [
       "IPY_MODEL_f010b14902ec44c69648cabd2a0cd01d",
       "IPY_MODEL_836e2b0833894246ac27f5f34e66ace1"
      ],
      "layout": "IPY_MODEL_cd7fe7b4bb3f49029c2de890c3cd7d58"
     }
    },
    "0d4fa71e22304340b5639c8f88f74846": {
     "model_module": "@jupyter-widgets/base",
     "model_module_version": "1.2.0",
     "model_name": "LayoutModel",
     "state": {
      "_model_module": "@jupyter-widgets/base",
      "_model_module_version": "1.2.0",
      "_model_name": "LayoutModel",
      "_view_count": null,
      "_view_module": "@jupyter-widgets/base",
      "_view_module_version": "1.2.0",
      "_view_name": "LayoutView",
      "align_content": null,
      "align_items": null,
      "align_self": null,
      "border": null,
      "bottom": null,
      "display": null,
      "flex": null,
      "flex_flow": null,
      "grid_area": null,
      "grid_auto_columns": null,
      "grid_auto_flow": null,
      "grid_auto_rows": null,
      "grid_column": null,
      "grid_gap": null,
      "grid_row": null,
      "grid_template_areas": null,
      "grid_template_columns": null,
      "grid_template_rows": null,
      "height": null,
      "justify_content": null,
      "justify_items": null,
      "left": null,
      "margin": null,
      "max_height": null,
      "max_width": null,
      "min_height": null,
      "min_width": null,
      "object_fit": null,
      "object_position": null,
      "order": null,
      "overflow": null,
      "overflow_x": null,
      "overflow_y": null,
      "padding": null,
      "right": null,
      "top": null,
      "visibility": null,
      "width": null
     }
    },
    "6d2f0036f8a34a5c8abccbcff73f01ae": {
     "model_module": "@jupyter-widgets/base",
     "model_module_version": "1.2.0",
     "model_name": "LayoutModel",
     "state": {
      "_model_module": "@jupyter-widgets/base",
      "_model_module_version": "1.2.0",
      "_model_name": "LayoutModel",
      "_view_count": null,
      "_view_module": "@jupyter-widgets/base",
      "_view_module_version": "1.2.0",
      "_view_name": "LayoutView",
      "align_content": null,
      "align_items": null,
      "align_self": null,
      "border": null,
      "bottom": null,
      "display": null,
      "flex": null,
      "flex_flow": null,
      "grid_area": null,
      "grid_auto_columns": null,
      "grid_auto_flow": null,
      "grid_auto_rows": null,
      "grid_column": null,
      "grid_gap": null,
      "grid_row": null,
      "grid_template_areas": null,
      "grid_template_columns": null,
      "grid_template_rows": null,
      "height": null,
      "justify_content": null,
      "justify_items": null,
      "left": null,
      "margin": null,
      "max_height": null,
      "max_width": null,
      "min_height": null,
      "min_width": null,
      "object_fit": null,
      "object_position": null,
      "order": null,
      "overflow": null,
      "overflow_x": null,
      "overflow_y": null,
      "padding": null,
      "right": null,
      "top": null,
      "visibility": null,
      "width": null
     }
    },
    "836e2b0833894246ac27f5f34e66ace1": {
     "model_module": "@jupyter-widgets/controls",
     "model_module_version": "1.5.0",
     "model_name": "HTMLModel",
     "state": {
      "_dom_classes": [],
      "_model_module": "@jupyter-widgets/controls",
      "_model_module_version": "1.5.0",
      "_model_name": "HTMLModel",
      "_view_count": null,
      "_view_module": "@jupyter-widgets/controls",
      "_view_module_version": "1.5.0",
      "_view_name": "HTMLView",
      "description": "",
      "description_tooltip": null,
      "layout": "IPY_MODEL_6d2f0036f8a34a5c8abccbcff73f01ae",
      "placeholder": "​",
      "style": "IPY_MODEL_bf7359f70e35462f877beb7d0935f8e3",
      "value": " 170500096/? [00:20&lt;00:00, 77534659.00it/s]"
     }
    },
    "99e3ee30d7cc411bb7396ef9a96c875a": {
     "model_module": "@jupyter-widgets/controls",
     "model_module_version": "1.5.0",
     "model_name": "ProgressStyleModel",
     "state": {
      "_model_module": "@jupyter-widgets/controls",
      "_model_module_version": "1.5.0",
      "_model_name": "ProgressStyleModel",
      "_view_count": null,
      "_view_module": "@jupyter-widgets/base",
      "_view_module_version": "1.2.0",
      "_view_name": "StyleView",
      "bar_color": null,
      "description_width": "initial"
     }
    },
    "bf7359f70e35462f877beb7d0935f8e3": {
     "model_module": "@jupyter-widgets/controls",
     "model_module_version": "1.5.0",
     "model_name": "DescriptionStyleModel",
     "state": {
      "_model_module": "@jupyter-widgets/controls",
      "_model_module_version": "1.5.0",
      "_model_name": "DescriptionStyleModel",
      "_view_count": null,
      "_view_module": "@jupyter-widgets/base",
      "_view_module_version": "1.2.0",
      "_view_name": "StyleView",
      "description_width": ""
     }
    },
    "cd7fe7b4bb3f49029c2de890c3cd7d58": {
     "model_module": "@jupyter-widgets/base",
     "model_module_version": "1.2.0",
     "model_name": "LayoutModel",
     "state": {
      "_model_module": "@jupyter-widgets/base",
      "_model_module_version": "1.2.0",
      "_model_name": "LayoutModel",
      "_view_count": null,
      "_view_module": "@jupyter-widgets/base",
      "_view_module_version": "1.2.0",
      "_view_name": "LayoutView",
      "align_content": null,
      "align_items": null,
      "align_self": null,
      "border": null,
      "bottom": null,
      "display": null,
      "flex": null,
      "flex_flow": null,
      "grid_area": null,
      "grid_auto_columns": null,
      "grid_auto_flow": null,
      "grid_auto_rows": null,
      "grid_column": null,
      "grid_gap": null,
      "grid_row": null,
      "grid_template_areas": null,
      "grid_template_columns": null,
      "grid_template_rows": null,
      "height": null,
      "justify_content": null,
      "justify_items": null,
      "left": null,
      "margin": null,
      "max_height": null,
      "max_width": null,
      "min_height": null,
      "min_width": null,
      "object_fit": null,
      "object_position": null,
      "order": null,
      "overflow": null,
      "overflow_x": null,
      "overflow_y": null,
      "padding": null,
      "right": null,
      "top": null,
      "visibility": null,
      "width": null
     }
    },
    "f010b14902ec44c69648cabd2a0cd01d": {
     "model_module": "@jupyter-widgets/controls",
     "model_module_version": "1.5.0",
     "model_name": "FloatProgressModel",
     "state": {
      "_dom_classes": [],
      "_model_module": "@jupyter-widgets/controls",
      "_model_module_version": "1.5.0",
      "_model_name": "FloatProgressModel",
      "_view_count": null,
      "_view_module": "@jupyter-widgets/controls",
      "_view_module_version": "1.5.0",
      "_view_name": "ProgressView",
      "bar_style": "info",
      "description": "",
      "description_tooltip": null,
      "layout": "IPY_MODEL_0d4fa71e22304340b5639c8f88f74846",
      "max": 1,
      "min": 0,
      "orientation": "horizontal",
      "style": "IPY_MODEL_99e3ee30d7cc411bb7396ef9a96c875a",
      "value": 1
     }
    }
   }
  }
 },
 "nbformat": 4,
 "nbformat_minor": 4
}
