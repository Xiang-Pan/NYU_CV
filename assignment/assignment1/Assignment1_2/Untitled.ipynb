{
 "cells": [
  {
   "cell_type": "code",
   "execution_count": 1,
   "id": "f534e480-64b2-42da-bf5e-7e27e952c239",
   "metadata": {},
   "outputs": [],
   "source": [
    "from nets import TfmNet"
   ]
  },
  {
   "cell_type": "code",
   "execution_count": 4,
   "id": "0ca5dc44-ad83-48c3-83e5-1febfc6b06ec",
   "metadata": {},
   "outputs": [
    {
     "name": "stdout",
     "output_type": "stream",
     "text": [
      "----------------------------------------------------------------\n",
      "        Layer (type)               Output Shape         Param #\n",
      "================================================================\n",
      "            Conv2d-1            [-1, 8, 26, 26]           1,184\n",
      "         MaxPool2d-2            [-1, 8, 13, 13]               0\n",
      "              ReLU-3            [-1, 8, 13, 13]               0\n",
      "            Conv2d-4             [-1, 10, 9, 9]           2,010\n",
      "         MaxPool2d-5             [-1, 10, 4, 4]               0\n",
      "              ReLU-6             [-1, 10, 4, 4]               0\n",
      "            Linear-7                   [-1, 32]           5,152\n",
      "              ReLU-8                   [-1, 32]               0\n",
      "            Linear-9                    [-1, 6]             198\n",
      "           Conv2d-10          [-1, 100, 28, 28]           7,600\n",
      "        LeakyReLU-11          [-1, 100, 28, 28]               0\n",
      "      BatchNorm2d-12          [-1, 100, 28, 28]             200\n",
      "        MaxPool2d-13          [-1, 100, 14, 14]               0\n",
      "      BatchNorm2d-14          [-1, 100, 14, 14]             200\n",
      "        Dropout2d-15          [-1, 100, 14, 14]               0\n",
      "           Conv2d-16          [-1, 150, 12, 12]         135,150\n",
      "        LeakyReLU-17          [-1, 150, 12, 12]               0\n",
      "      BatchNorm2d-18          [-1, 150, 12, 12]             300\n",
      "        MaxPool2d-19            [-1, 150, 6, 6]               0\n",
      "      BatchNorm2d-20            [-1, 150, 6, 6]             300\n",
      "        Dropout2d-21            [-1, 150, 6, 6]               0\n",
      "           Conv2d-22            [-1, 250, 4, 4]         337,750\n",
      "        LeakyReLU-23            [-1, 250, 4, 4]               0\n",
      "      BatchNorm2d-24            [-1, 250, 4, 4]             500\n",
      "        MaxPool2d-25            [-1, 250, 2, 2]               0\n",
      "      BatchNorm2d-26            [-1, 250, 2, 2]             500\n",
      "        Dropout2d-27            [-1, 250, 2, 2]               0\n",
      "           Linear-28                  [-1, 350]         350,350\n",
      "             ReLU-29                  [-1, 350]               0\n",
      "          Dropout-30                  [-1, 350]               0\n",
      "           Linear-31                   [-1, 43]          15,093\n",
      "================================================================\n",
      "Total params: 856,487\n",
      "Trainable params: 856,487\n",
      "Non-trainable params: 0\n",
      "----------------------------------------------------------------\n",
      "Input size (MB): 0.01\n",
      "Forward/backward pass size (MB): 3.05\n",
      "Params size (MB): 3.27\n",
      "Estimated Total Size (MB): 6.33\n",
      "----------------------------------------------------------------\n"
     ]
    }
   ],
   "source": [
    "import torchvision.models as models\n",
    "from torchsummary import summary\n",
    "\n",
    "model = TfmNet().cuda()\n",
    " \n",
    "summary(model, (3, 32, 32))"
   ]
  },
  {
   "cell_type": "code",
   "execution_count": null,
   "id": "bf80c028-3c3e-45bc-a4cd-b8e2e7c1d09d",
   "metadata": {},
   "outputs": [],
   "source": []
  }
 ],
 "metadata": {
  "kernelspec": {
   "display_name": "Python 3 (ipykernel)",
   "language": "python",
   "name": "python3"
  },
  "language_info": {
   "codemirror_mode": {
    "name": "ipython",
    "version": 3
   },
   "file_extension": ".py",
   "mimetype": "text/x-python",
   "name": "python",
   "nbconvert_exporter": "python",
   "pygments_lexer": "ipython3",
   "version": "3.8.12"
  }
 },
 "nbformat": 4,
 "nbformat_minor": 5
}
